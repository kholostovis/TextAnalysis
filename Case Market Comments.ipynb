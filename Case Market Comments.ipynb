{
 "cells": [
  {
   "cell_type": "code",
   "execution_count": 46,
   "metadata": {},
   "outputs": [],
   "source": [
    "import pandas as pd\n",
    "import nltk\n",
    "from sklearn.feature_extraction.text import CountVectorizer\n",
    "from sklearn.model_selection import train_test_split\n",
    "from sklearn.feature_extraction.text import TfidfVectorizer\n",
    "from sklearn.linear_model import LogisticRegression\n",
    "from nltk import word_tokenize"
   ]
  },
  {
   "cell_type": "code",
   "execution_count": 52,
   "metadata": {},
   "outputs": [
    {
     "name": "stdout",
     "output_type": "stream",
     "text": [
      "Index(['item_category', 'item_id', 'brand', 'user_id', 'date', 'comment',\n",
      "       'rating', 'tonality'],\n",
      "      dtype='object')\n",
      "Positive cooments 11952\n",
      "Negative comments  2329\n"
     ]
    }
   ],
   "source": [
    "comments = pd.read_excel(r\"C:\\Users\\Xiaomi\\Desktop\\Git\\Case Market Comments\\market_comments.xlsx\")\n",
    "\n",
    "print(comments.columns)\n",
    "print('Positive cooments', comments.comment[comments['tonality'] == 'positive'].count())\n",
    "print('Negative comments ', comments.comment[comments['tonality'] == 'negative'].count())"
   ]
  },
  {
   "cell_type": "code",
   "execution_count": 48,
   "metadata": {},
   "outputs": [],
   "source": [
    "x_train, x_test, y_train, y_test = train_test_split(comments.comment, comments.tonality, stratify=comments.tonality)"
   ]
  },
  {
   "cell_type": "code",
   "execution_count": 49,
   "metadata": {},
   "outputs": [
    {
     "name": "stderr",
     "output_type": "stream",
     "text": [
      "[nltk_data] Downloading package punkt to\n",
      "[nltk_data]     C:\\Users\\Xiaomi\\AppData\\Roaming\\nltk_data...\n",
      "[nltk_data]   Package punkt is already up-to-date!\n"
     ]
    }
   ],
   "source": [
    "stemmer = nltk.stem.SnowballStemmer('russian')\n",
    "nltk.download('punkt')\n",
    "\n",
    "def stemming(doc):\n",
    "    tokens = [stemmer.stem(word) for word in word_tokenize(doc.lower())]\n",
    "    return \" \".join(tokens)\n",
    "\n",
    "x_train = [stemming(doc) for doc in x_train]\n",
    "x_test = [stemming(doc) for doc in x_test]"
   ]
  },
  {
   "cell_type": "code",
   "execution_count": 50,
   "metadata": {},
   "outputs": [
    {
     "name": "stderr",
     "output_type": "stream",
     "text": [
      "C:\\Users\\Xiaomi\\Anaconda3\\lib\\site-packages\\sklearn\\linear_model\\logistic.py:432: FutureWarning: Default solver will be changed to 'lbfgs' in 0.22. Specify a solver to silence this warning.\n",
      "  FutureWarning)\n"
     ]
    },
    {
     "name": "stdout",
     "output_type": "stream",
     "text": [
      "0.8076169140296836\n"
     ]
    }
   ],
   "source": [
    "# Simple Vectorizer\n",
    "\n",
    "vect = CountVectorizer().fit(text_train)\n",
    "X = vect.transform(text_train)\n",
    "feature_names = vect.get_feature_names()\n",
    "model = LogisticRegression()\n",
    "model.fit(X, y_train)\n",
    "\n",
    "X_test = vect.transform(text_test) #BOW\n",
    "print(model.score(X_test, y_test))"
   ]
  },
  {
   "cell_type": "code",
   "execution_count": 51,
   "metadata": {},
   "outputs": [
    {
     "name": "stdout",
     "output_type": "stream",
     "text": [
      "0.8994679361523383\n"
     ]
    },
    {
     "name": "stderr",
     "output_type": "stream",
     "text": [
      "C:\\Users\\Xiaomi\\Anaconda3\\lib\\site-packages\\sklearn\\linear_model\\logistic.py:432: FutureWarning: Default solver will be changed to 'lbfgs' in 0.22. Specify a solver to silence this warning.\n",
      "  FutureWarning)\n"
     ]
    }
   ],
   "source": [
    "# Second decision with TF-IDF\n",
    "\n",
    "vect = TfidfVectorizer().fit(x_train)\n",
    "X_train = vect.transform(x_train)\n",
    "X_test = vect.transform(x_test)\n",
    "model = LogisticRegression()\n",
    "model.fit(X_train, y_train)\n",
    "print(model.score(X_test, y_test))"
   ]
  }
 ],
 "metadata": {
  "kernelspec": {
   "display_name": "Python 3",
   "language": "python",
   "name": "python3"
  },
  "language_info": {
   "codemirror_mode": {
    "name": "ipython",
    "version": 3
   },
   "file_extension": ".py",
   "mimetype": "text/x-python",
   "name": "python",
   "nbconvert_exporter": "python",
   "pygments_lexer": "ipython3",
   "version": "3.7.4"
  }
 },
 "nbformat": 4,
 "nbformat_minor": 2
}
